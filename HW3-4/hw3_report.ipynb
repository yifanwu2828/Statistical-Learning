{
 "cells": [
  {
   "cell_type": "code",
   "execution_count": 1,
   "metadata": {},
   "outputs": [],
   "source": [
    "import os\n",
    "\n",
    "import numpy as np\n",
    "import scipy.io as sio\n",
    "import matplotlib.pyplot as plt\n",
    "from PIL import Image\n",
    "\n",
    "from tqdm.notebook import tqdm_notebook\n",
    "\n",
    "import utils"
   ]
  },
  {
   "cell_type": "code",
   "execution_count": 2,
   "metadata": {},
   "outputs": [],
   "source": [
    "def cov_n_inv(sigma_inv: np.ndarray, sigma_0_inv:np.ndarray, n: int):\n",
    "    return n * sigma_inv + sigma_0_inv "
   ]
  },
  {
   "cell_type": "code",
   "execution_count": 3,
   "metadata": {},
   "outputs": [],
   "source": [
    "def mu_n(sample_mean, prior_mu0, sample_cov, prior_sigma0, n: int, a_inv: np.ndarray):\n",
    "    \"\"\"\n",
    "    a_inv = np.linalg.inv(Sigma_0 + Sigma / n)\n",
    "    \"\"\"\n",
    "\n",
    "    # (64,64) @ (64,64) @ (64, 1) + (64, 64) @ (64, 64) @ (64, 1) -> (64, 1) + (64,1)\n",
    "    return prior_sigma0 @ a_inv @ sample_mean + sample_cov @ a_inv @ prior_mu0 / n"
   ]
  },
  {
   "cell_type": "code",
   "execution_count": 4,
   "metadata": {},
   "outputs": [],
   "source": [
    "def sigma_n(sigma, sigma_0, n: int, a_inv: np.ndarray):\n",
    "    return sigma_0 @ a_inv * sigma / n"
   ]
  },
  {
   "cell_type": "code",
   "execution_count": 5,
   "metadata": {},
   "outputs": [],
   "source": [
    "def g(x, W, w, w0):\n",
    "    \"\"\"\n",
    "    Decision boundary function g_i(x).\n",
    "    \"\"\"\n",
    "    return x.T @ W @ x + w.T @ x + w0"
   ]
  },
  {
   "cell_type": "markdown",
   "metadata": {},
   "source": [
    "## Load Data"
   ]
  },
  {
   "cell_type": "code",
   "execution_count": 6,
   "metadata": {},
   "outputs": [],
   "source": [
    "current_dir = os.getcwd() \n",
    "data_dir = os.path.join(current_dir, \"data\")\n",
    "prior1_fname = os.path.join(data_dir, \"Prior_1.mat\")\n",
    "prior2_fname = os.path.join(data_dir, \"Prior_2.mat\")\n",
    "alpha_fname = os.path.join(data_dir, \"Alpha.mat\")\n",
    "\n",
    "mat_fname = os.path.join(data_dir, \"TrainingSamplesDCT_8_new.mat\")\n",
    "mat_fname_subset = os.path.join(data_dir, \"TrainingSamplesDCT_subsets_8.mat\")\n",
    "plot_dir = os.path.join(current_dir, \"plots\")\n",
    "\n",
    "# Create the directory if it does not exist\n",
    "for d in [data_dir, plot_dir]:\n",
    "    if not os.path.exists(d):\n",
    "        os.mkdir(d)\n",
    "        \n",
    "   "
   ]
  },
  {
   "cell_type": "code",
   "execution_count": 7,
   "metadata": {},
   "outputs": [],
   "source": [
    "# Load the data\n",
    "\n",
    "subsets8 = sio.loadmat(mat_fname_subset)\n",
    "prior_1 = sio.loadmat(prior1_fname)\n",
    "prior_2 = sio.loadmat(prior2_fname)\n",
    "alpha_dict = sio.loadmat(alpha_fname)\n",
    "\n",
    "alpha = alpha_dict['alpha']\n",
    "\n",
    "D1_BG = subsets8['D1_BG']\n",
    "D1_FG = subsets8['D1_FG']"
   ]
  },
  {
   "cell_type": "markdown",
   "metadata": {},
   "source": [
    "## a) Bayesian Estimation\n",
    "Consider the training set D1 and strategy 1,\n",
    "\n",
    " For each class, compute the covariance $\\Sigma$ of the class-conditional, and the posterior mean $\\mu_1$ , and covariance $\\Sigma_1$ of\n",
    "\n",
    " $$ P_{\\mu|T}(\\mu|D1) = N (\\mu, \\mu1, \\Sigma_1) $$"
   ]
  },
  {
   "cell_type": "code",
   "execution_count": 8,
   "metadata": {},
   "outputs": [
    {
     "name": "stdout",
     "output_type": "stream",
     "text": [
      "num_BG: 300\n",
      "num_FG: 75\n"
     ]
    }
   ],
   "source": [
    "n_BG = D1_BG.shape[0]\n",
    "n_FG = D1_FG.shape[0]\n",
    "print(f\"num_BG: {n_BG}\") \n",
    "print(f\"num_FG: {n_FG}\")"
   ]
  },
  {
   "cell_type": "code",
   "execution_count": 9,
   "metadata": {},
   "outputs": [
    {
     "name": "stdout",
     "output_type": "stream",
     "text": [
      "prior_FG: 0.2\n",
      "prior_BG: 0.8\n"
     ]
    }
   ],
   "source": [
    "P_FG = n_FG / (n_FG + n_BG)\n",
    "P_BG = n_BG / (n_FG + n_BG)\n",
    "print(f\"prior_FG: {P_FG}\")\n",
    "print(f\"prior_BG: {P_BG}\")"
   ]
  },
  {
   "cell_type": "markdown",
   "metadata": {},
   "source": [
    "$$ p(x|\\mu) \\sim N(\\mu, \\Sigma) $$\n",
    "$$ p(\\mu) \\sim N (\\mu_0, \\Sigma_0) $$\n",
    "where $\\Sigma$, $\\Sigma_1$ and $\\mu_0$ are assumed to be known.\n",
    "\n",
    "$$\\mu_n = \\Sigma_{0} \\big(\\Sigma_{0} + \\frac{1}{n}\\Sigma\\big)^{-1} \\hat{\\mu_{n}} + \\frac{1}{n}\\Sigma \\big(\\Sigma_0 + \\frac{1}{n}\\Sigma \\big)^{-1} \\mu_{0}$$\n",
    "\n",
    "Where $\\hat{\\mu_{n}}$ is the sample mean$\n",
    "$$\\hat{\\mu_n} = \\frac{1}{n} \\sum_{k=1}^{n} x_k$$\n",
    "\n",
    "$$ \\Sigma_{n}^{-1} = n \\Sigma^{-1} + \\Sigma_{0}^{-1} $$\n",
    "$$ \\Longrightarrow \\Sigma_n = \\Sigma_0 \\big(\\Sigma_0 + \\frac{1}{n}\\Sigma \\big)^{-1} \\frac{1}{n}\\Sigma$$ \n",
    "\n",
    "\n",
    "Since the sum of two independent, normally distibuted vectors is again a normally distributed vector. \n",
    "\n",
    "whose mean is the sum of the means \n",
    "\n",
    "and whose covariance matrixis is the sum of the covariance matrices\n",
    "$$ p(x|D) \\sim N(\\mu_n, \\Sigma + \\Sigma_n) $$"
   ]
  },
  {
   "cell_type": "code",
   "execution_count": 10,
   "metadata": {},
   "outputs": [],
   "source": [
    "# \\mu_0\n",
    "prior1_mu0_BG = prior_1['mu0_BG'].reshape(-1, 1)\n",
    "prior1_mu0_FG = prior_1['mu0_FG'].reshape(-1, 1)"
   ]
  },
  {
   "cell_type": "code",
   "execution_count": 11,
   "metadata": {},
   "outputs": [],
   "source": [
    "# \\hat{\\mu_n} sample mean\n",
    "D1_BG_mean = np.mean(D1_BG, axis=0).reshape(-1, 1)\n",
    "D1_FG_mean = np.mean(D1_FG, axis=0).reshape(-1, 1)\n"
   ]
  },
  {
   "cell_type": "code",
   "execution_count": 12,
   "metadata": {},
   "outputs": [],
   "source": [
    "# Sigma\n",
    "D1_cov_BG = np.cov(D1_BG.T, bias=False)\n",
    "D1_cov_FG = np.cov(D1_FG.T, bias=False)\n"
   ]
  },
  {
   "cell_type": "markdown",
   "metadata": {},
   "source": [
    "For the covariance $\\Sigma_0$, we assume a diagonal matrix with $$(\\Sigma_0)_{ii} = \\alpha \\omega_i$$"
   ]
  },
  {
   "cell_type": "code",
   "execution_count": 13,
   "metadata": {},
   "outputs": [],
   "source": [
    "# load Image (original_img has dtype=uint8)\n",
    "img = np.asarray(Image.open(os.path.join(data_dir, \"cheetah.bmp\"), \"r\"))\n",
    "\n",
    "# Convert to double and / 255\n",
    "img = utils.im2double(img)\n",
    "# (255, 270)\n",
    "# plt.imshow(img)\n",
    "# plt.show()\n",
    "assert img.min() == 0 and img.max() <= 1"
   ]
  },
  {
   "cell_type": "code",
   "execution_count": 14,
   "metadata": {},
   "outputs": [],
   "source": [
    "ground_truth = np.asarray(Image.open(os.path.join(data_dir, \"cheetah_mask.bmp\"), \"r\"))\n",
    "# plt.imshow(ground_truth)\n",
    "# plt.title(\"Ground Truth\")\n",
    "# plt.show()"
   ]
  },
  {
   "cell_type": "code",
   "execution_count": 15,
   "metadata": {},
   "outputs": [],
   "source": [
    "logp_FG = np.log(P_FG)\n",
    "logp_BG = np.log(P_BG)"
   ]
  },
  {
   "cell_type": "code",
   "execution_count": 16,
   "metadata": {},
   "outputs": [
    {
     "data": {
      "application/vnd.jupyter.widget-view+json": {
       "model_id": "7bf3b03b0d7e4fc2aa99878c0bb8a466",
       "version_major": 2,
       "version_minor": 0
      },
      "text/plain": [
       "  0%|          | 0/9 [00:00<?, ?it/s]"
      ]
     },
     "metadata": {},
     "output_type": "display_data"
    }
   ],
   "source": [
    "img_lst = []\n",
    "alpha = alpha.ravel()\n",
    "old_prior_sigma_0 = np.zeros((64, 64))\n",
    "for a in tqdm_notebook(range(alpha.shape[0])):\n",
    "    \n",
    "    processed_img = np.empty([img.shape[0] - 8, img.shape[1] - 8], dtype=bool)\n",
    "    \n",
    "    # Sigma_0 (with weight = alpha[i] )\n",
    "    prior_sigma_0 = np.diag((alpha[a] *  prior_1[\"W0\"]).flat)\n",
    "    assert prior_sigma_0.shape[0] == 64 and prior_sigma_0.shape[1] == 64\n",
    "    assert not np.allclose(old_prior_sigma_0, prior_sigma_0)\n",
    "    old_prior_sigma_0 = prior_sigma_0\n",
    "    \n",
    "    # * pre-compute the inverse of Sigma_0 + (Sigma / n)\n",
    "    a_BG = prior_sigma_0 + D1_cov_BG / n_BG\n",
    "    a_FG = prior_sigma_0 + D1_cov_FG / n_FG\n",
    "    \n",
    "    a_BG_inv = np.linalg.inv(a_BG)\n",
    "    a_FG_inv = np.linalg.inv(a_FG)\n",
    "    \n",
    "    \n",
    "    # Parameter Distribution\n",
    "    mu_n_BG = mu_n(D1_BG_mean, prior1_mu0_BG, D1_cov_BG, prior_sigma_0, n_BG, a_BG_inv)\n",
    "    mu_n_FG = mu_n(D1_FG_mean, prior1_mu0_FG, D1_cov_FG, prior_sigma_0, n_FG, a_FG_inv)\n",
    "    \n",
    "    cov_n_BG = sigma_n(D1_cov_BG, prior_sigma_0, n_BG, a_BG_inv)\n",
    "    cov_n_FG = sigma_n(D1_cov_FG, prior_sigma_0, n_FG, a_FG_inv)\n",
    "    \n",
    "    \n",
    "    # Sum of independent gaussian\n",
    "    mu_BG = mu_n_BG\n",
    "    mu_FG = mu_n_FG\n",
    "    \n",
    "    cov_BG = cov_n_BG + D1_cov_BG \n",
    "    cov_FG = cov_n_FG + D1_cov_FG\n",
    "    \n",
    "    # guassian decsison bounday\n",
    "    logdet_BG = np.log(np.linalg.det(cov_BG))\n",
    "    logdet_FG = np.log(np.linalg.det(cov_FG))\n",
    "    \n",
    "    W_BG = np.linalg.inv(cov_BG)\n",
    "    W_FG = np.linalg.inv(cov_FG)\n",
    "    \n",
    "    w_BG = -2 * W_BG @ mu_BG\n",
    "    w_FG = -2 * W_FG @ mu_FG\n",
    "    \n",
    "    w0_FG = mu_FG.T @ W_FG @ mu_FG + logdet_FG - 2 * logp_FG\n",
    "    w0_BG = mu_BG.T @ W_BG @ mu_BG + logdet_BG - 2 * logp_BG\n",
    "    \n",
    "    # Feature vector 64 x 1\n",
    "    x_64 = np.zeros((64, 1), dtype=np.float64)\n",
    "    for i in (range(processed_img.shape[0])):\n",
    "        for j in range(processed_img.shape[1]):\n",
    "            # # 8 x 8 block\n",
    "            block = img[i : i + 8, j : j + 8]\n",
    "            # DCT transform on the block\n",
    "            block_DCT = utils.dct2(block)\n",
    "            # zigzag pattern mapping\n",
    "            for k in range(block_DCT.shape[0]):\n",
    "                for p in range(block_DCT.shape[1]):\n",
    "                    loc = utils.zigzag[k, p]\n",
    "                    x_64[loc, :] = block_DCT[k, p]\n",
    "            \n",
    "            if g(x_64, W_FG, w_FG, w0_FG) > g(x_64, W_BG, w_BG, w0_BG):\n",
    "                processed_img[i, j] = 0  \n",
    "            else:\n",
    "                processed_img[i, j] = 1    \n",
    "    img_lst.append(processed_img)\n"
   ]
  },
  {
   "cell_type": "code",
   "execution_count": 17,
   "metadata": {},
   "outputs": [],
   "source": [
    "error_lst_bayes = [utils.calculate_error(img, ground_truth, verbose=False)[0] for img in img_lst]"
   ]
  },
  {
   "cell_type": "code",
   "execution_count": 19,
   "metadata": {},
   "outputs": [
    {
     "data": {
      "image/png": "[encoded data removed]",
      "text/plain": [
       "<Figure size 720x432 with 1 Axes>"
      ]
     },
     "metadata": {
      "needs_background": "light"
     },
     "output_type": "display_data"
    }
   ],
   "source": [
    "plt.figure(figsize=(10, 6))\n",
    "plt.plot((alpha.flat), error_lst_bayes, \"--o\", label=\"Error\")\n",
    "plt.xscale(\"log\")\n",
    "plt.xlabel(r\"$\\log (\\alpha)$\")\n",
    "plt.ylabel(\"PoE\")\n",
    "plt.grid()\n",
    "plt.tight_layout()  \n",
    "plt.title(r\"PE vs $\\alpha$\")\n",
    "plt.show()"
   ]
  },
  {
   "cell_type": "markdown",
   "metadata": {},
   "source": [
    "## b) MLE"
   ]
  },
  {
   "cell_type": "code",
   "execution_count": 19,
   "metadata": {},
   "outputs": [],
   "source": [
    "def ML_result():\n",
    "    TrainsampleDCT_BG = subsets8['D1_BG']\n",
    "    TrainsampleDCT_FG = subsets8['D1_FG']\n",
    "    \n",
    "    m_FG_ML, n_FG = TrainsampleDCT_FG.shape\n",
    "    m_BG_ML, n_BG = TrainsampleDCT_BG.shape\n",
    "\n",
    "    P_FG_ML = m_FG_ML / (m_FG_ML + m_BG_ML)\n",
    "    P_BG_ML = m_BG_ML / (m_FG_ML + m_BG_ML)\n",
    "    assert P_FG_ML + P_BG_ML == 1\n",
    "\n",
    "    # =======================================================================================\n",
    "    # ML mean mu\n",
    "    mu_FG_ML = np.mean(TrainsampleDCT_FG, axis=0).reshape(-1, 1)\n",
    "    mu_BG_ML = np.mean(TrainsampleDCT_BG, axis=0).reshape(-1, 1)\n",
    "    \n",
    "    # ML covariance Sigma\n",
    "    cov_FG_ML, cov_BG_ML = np.cov(TrainsampleDCT_FG.T), np.cov(TrainsampleDCT_BG.T)\n",
    "    \n",
    "    img = np.asarray(Image.open(os.path.join(data_dir, \"cheetah.bmp\"), \"r\"))\n",
    "    \n",
    "    # Convert to double and / 255\n",
    "    img = utils.im2double(img)\n",
    "    assert img.min() == 0 and img.max() <= 1\n",
    "    \n",
    "    ground_truth = np.asarray(Image.open(os.path.join(data_dir, \"cheetah_mask.bmp\"), \"r\"))\n",
    "\n",
    "    processed_img = np.zeros([img.shape[0] - 8, img.shape[1] - 8], dtype=bool)\n",
    "    \n",
    "    # constants\n",
    "    \n",
    "    logp_FG_ML = np.log(P_FG_ML)\n",
    "    logp_BG_ML = np.log(P_BG_ML)\n",
    "    \n",
    "        \n",
    "    logdet_FG_ML = np.log(np.linalg.det(cov_FG_ML))\n",
    "    logdet_BG_ML = np.log(np.linalg.det(cov_BG_ML))\n",
    "    \n",
    "    W_FG = np.linalg.inv(cov_FG_ML)\n",
    "    W_BG = np.linalg.inv(cov_BG_ML)\n",
    "    \n",
    "    w_FG = -2 * W_FG @ mu_FG_ML\n",
    "    w_BG = -2 * W_BG @ mu_BG_ML\n",
    "    \n",
    "    w0_FG = mu_FG_ML.T @ W_FG @ mu_FG_ML + logdet_FG_ML - 2 * logp_FG_ML\n",
    "    w0_BG = mu_BG_ML.T @ W_BG @ mu_BG_ML + logdet_BG_ML - 2 * logp_BG_ML\n",
    "\n",
    "\n",
    "    # Feature vector 64 x 1\n",
    "    x_64 = np.zeros((64, 1), dtype=np.float64)\n",
    "    for i in (range(processed_img.shape[0])):\n",
    "        for j in range(processed_img.shape[1]):\n",
    "            # 8 x 8 block\n",
    "            block = img[i : i + 8, j : j + 8]\n",
    "            # DCT transform on the block\n",
    "            block_DCT = utils.dct2(block)\n",
    "            # zigzag pattern mapping\n",
    "            for k in range(block_DCT.shape[0]):\n",
    "                for p in range(block_DCT.shape[1]):\n",
    "                    loc = utils.zigzag[k, p]\n",
    "                    x_64[loc, :] = block_DCT[k, p]\n",
    "            \n",
    "            if g(x_64, W_FG, w_FG, w0_FG) >= g(x_64, W_BG, w_BG, w0_BG):\n",
    "                processed_img[i, j] = 0  \n",
    "            else:\n",
    "                processed_img[i, j] = 1\n",
    "    errors_ML = utils.calculate_error(processed_img, ground_truth)\n",
    "    return errors_ML"
   ]
  },
  {
   "cell_type": "code",
   "execution_count": 20,
   "metadata": {},
   "outputs": [
    {
     "name": "stdout",
     "output_type": "stream",
     "text": [
      "The probability of error: 0.15650400222517535\n",
      "FG error: 0.1466606916586828\n",
      "BG error is: 0.009843310566492567\n"
     ]
    }
   ],
   "source": [
    "ML_error, _, _, = ML_result()"
   ]
  },
  {
   "cell_type": "code",
   "execution_count": 22,
   "metadata": {},
   "outputs": [
    {
     "data": {
      "image/png": "[encoded data removed]",
      "text/plain": [
       "<Figure size 720x432 with 1 Axes>"
      ]
     },
     "metadata": {
      "needs_background": "light"
     },
     "output_type": "display_data"
    }
   ],
   "source": [
    "plt.figure(figsize=(10, 6))\n",
    "plt.plot((alpha.flat), error_lst_bayes, \"--o\", label=\"Bayes_Error\")\n",
    "plt.plot((alpha.flat), [ML_error]*9, \"--o\", label=\"ML_Error\")\n",
    "plt.xlabel(r\"$\\log (\\alpha)$\")\n",
    "plt.ylabel(\"PoE\")\n",
    "plt.xscale(\"log\")\n",
    "plt.grid()\n",
    "plt.title(r\"PE vs $\\alpha$\")\n",
    "plt.legend()\n",
    "plt.show()"
   ]
  },
  {
   "cell_type": "markdown",
   "metadata": {},
   "source": [
    "## c) MAP estimate of $\\mu$"
   ]
  },
  {
   "cell_type": "markdown",
   "metadata": {},
   "source": [
    "$$ P_{X|T}(x|D1) = P_{X|\\mu}(x|\\mu_{MAP})$$\n",
    "\n",
    "where\n",
    "$$ \\mu_{MAP} = \\argmax_{\\mu} P_{\\mu|T}(\\mu|D1) \\\\ = \\argmax_{\\theta} P_{T|\\mu}(D1|\\mu)P_{\\Theta}(\\theta)$$\n"
   ]
  },
  {
   "cell_type": "code",
   "execution_count": 23,
   "metadata": {},
   "outputs": [
    {
     "data": {
      "application/vnd.jupyter.widget-view+json": {
       "model_id": "9940899e85f44de2a2403c011d095996",
       "version_major": 2,
       "version_minor": 0
      },
      "text/plain": [
       "  0%|          | 0/9 [00:00<?, ?it/s]"
      ]
     },
     "metadata": {},
     "output_type": "display_data"
    }
   ],
   "source": [
    "img_lst_MAP = []\n",
    "for a in tqdm_notebook(range(alpha.shape[0])):\n",
    "    \n",
    "    processed_img = np.empty([img.shape[0] - 8, img.shape[1] - 8], dtype=bool)\n",
    "    \n",
    "    # Sigma_0 (with alpha[:, i])\n",
    "    prior_sigma_0 = np.diag((alpha[a] *  prior_1[\"W0\"]).flat)\n",
    "    assert prior_sigma_0.shape[0] == 64 and prior_sigma_0.shape[1] == 64\n",
    "    \n",
    "    # * pre-compute the inverse of Sigma_0 + Sigma / n\n",
    "    a_BG = prior_sigma_0 + D1_cov_BG / n_BG\n",
    "    a_FG = prior_sigma_0 + D1_cov_FG / n_FG\n",
    "    \n",
    "    a_BG_inv = np.linalg.inv(a_BG)\n",
    "    a_FG_inv = np.linalg.inv(a_FG)\n",
    "    \n",
    "    \n",
    "    # Parameter Distribution\n",
    "    mu_n_BG = mu_n(D1_BG_mean, prior1_mu0_BG, D1_cov_BG, prior_sigma_0, n_BG, a_BG_inv)\n",
    "    mu_n_FG = mu_n(D1_FG_mean, prior1_mu0_FG, D1_cov_FG, prior_sigma_0, n_FG, a_FG_inv)\n",
    "    \n",
    "    cov_n_BG = sigma_n(D1_cov_BG, prior_sigma_0, n_BG, a_BG_inv)\n",
    "    cov_n_FG = sigma_n(D1_cov_FG, prior_sigma_0, n_FG, a_FG_inv)\n",
    "    \n",
    "    \n",
    "    # Sum of independent gaussian -- MAP\n",
    "    mu_BG = mu_n_BG\n",
    "    mu_FG = mu_n_FG\n",
    "    \n",
    "    cov_BG = D1_cov_BG\n",
    "    cov_FG = D1_cov_FG\n",
    "    # =========================================================================================\n",
    "    # guassian decsison bounday\n",
    "    logdet_BG = np.log(np.linalg.det(cov_BG))\n",
    "    logdet_FG = np.log(np.linalg.det(cov_FG))\n",
    "    \n",
    "    W_BG = np.linalg.inv(cov_BG)\n",
    "    W_FG = np.linalg.inv(cov_FG)\n",
    "    \n",
    "    w_BG = -2 * W_BG @ mu_BG\n",
    "    w_FG = -2 * W_FG @ mu_FG\n",
    "    \n",
    "    w0_FG = mu_FG.T @ W_FG @ mu_FG + logdet_FG - 2 * logp_FG\n",
    "    w0_BG = mu_BG.T @ W_BG @ mu_BG + logdet_BG - 2 * logp_BG\n",
    "    \n",
    "    # Feature vector 64 x 1\n",
    "    x_64 = np.zeros((64, 1), dtype=np.float64)\n",
    "    for i in (range(processed_img.shape[0])):\n",
    "        for j in range(processed_img.shape[1]):\n",
    "            # # 8 x 8 block\n",
    "            block = img[i : i + 8, j : j + 8]\n",
    "            # DCT transform on the block\n",
    "            block_DCT = utils.dct2(block)\n",
    "            # zigzag pattern mapping\n",
    "            for k in range(block_DCT.shape[0]):\n",
    "                for p in range(block_DCT.shape[1]):\n",
    "                    loc = utils.zigzag[k, p]\n",
    "                    x_64[loc, :] = block_DCT[k, p]\n",
    "            \n",
    "            if g(x_64, W_FG, w_FG, w0_FG) >= g(x_64, W_BG, w_BG, w0_BG):\n",
    "                processed_img[i, j] = 0  \n",
    "            else:\n",
    "                processed_img[i, j] = 1    \n",
    "    img_lst_MAP.append(processed_img)"
   ]
  },
  {
   "cell_type": "code",
   "execution_count": 24,
   "metadata": {},
   "outputs": [],
   "source": [
    "error_lst_MAP = [utils.calculate_error(img, ground_truth, verbose=False)[0] for img in img_lst_MAP]\n"
   ]
  },
  {
   "cell_type": "markdown",
   "metadata": {},
   "source": [
    "The MAP error curve starts at lower error. This is due to the prior is good. Then it increases and eventually becomes a horizontal curve and converge to ML error. \n",
    "\n",
    "\n",
    "As $\\alpha$ increase, the prior information has less effect on $\\mu_{MAP}$, the $\\mu_{MAP}$ nearly equals to the $\\mu_{ML}$ over the sample data."
   ]
  },
  {
   "cell_type": "code",
   "execution_count": 25,
   "metadata": {},
   "outputs": [
    {
     "data": {
      "image/png": "[encoded data removed]",
      "text/plain": [
       "<Figure size 720x432 with 1 Axes>"
      ]
     },
     "metadata": {
      "needs_background": "light"
     },
     "output_type": "display_data"
    }
   ],
   "source": [
    "plt.figure(figsize=(10, 6))\n",
    "# plt.plot((alpha.flat), error_lst, \"--o\", label=\"Bayes_Error\")\n",
    "plt.plot((alpha.flat), [ML_error]*9, \"--o\", label=\"ML_Error\")\n",
    "plt.plot((alpha.flat), error_lst_MAP, \"--o\", label=\"MAP_Error\")\n",
    "\n",
    "plt.xlabel(r\"$\\log (\\alpha)$\")\n",
    "plt.ylabel(\"PoE\")\n",
    "plt.xscale(\"log\")\n",
    "plt.grid()\n",
    "plt.title(r\"PE vs $\\alpha$\")\n",
    "plt.legend()\n",
    "plt.show()\n"
   ]
  },
  {
   "cell_type": "code",
   "execution_count": null,
   "metadata": {},
   "outputs": [],
   "source": []
  }
 ],
 "metadata": {
  "interpreter": {
   "hash": "5f46cb6e354703b1854510379099cc8d5312b550545298ed5294510ea6c38f74"
  },
  "kernelspec": {
   "display_name": "Python 3.9.5 64-bit ('venv': venv)",
   "language": "python",
   "name": "python3"
  },
  "language_info": {
   "codemirror_mode": {
    "name": "ipython",
    "version": 3
   },
   "file_extension": ".py",
   "mimetype": "text/x-python",
   "name": "python",
   "nbconvert_exporter": "python",
   "pygments_lexer": "ipython3",
   "version": "3.9.5"
  },
  "orig_nbformat": 4
 },
 "nbformat": 4,
 "nbformat_minor": 2
}
